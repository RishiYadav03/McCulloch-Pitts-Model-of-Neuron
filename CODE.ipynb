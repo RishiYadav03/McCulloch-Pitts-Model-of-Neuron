{
  "nbformat": 4,
  "nbformat_minor": 0,
  "metadata": {
    "colab": {
      "provenance": [],
      "authorship_tag": "ABX9TyPCihK4L5bs7p+4MqItAo9s",
      "include_colab_link": true
    },
    "kernelspec": {
      "name": "python3",
      "display_name": "Python 3"
    },
    "language_info": {
      "name": "python"
    }
  },
  "cells": [
    {
      "cell_type": "markdown",
      "metadata": {
        "id": "view-in-github",
        "colab_type": "text"
      },
      "source": [
        "<a href=\"https://colab.research.google.com/github/RishiYadav03/McCulloch-Pitts-Model-of-Neuron/blob/main/CODE.ipynb\" target=\"_parent\"><img src=\"https://colab.research.google.com/assets/colab-badge.svg\" alt=\"Open In Colab\"/></a>"
      ]
    },
    {
      "cell_type": "code",
      "execution_count": null,
      "metadata": {
        "colab": {
          "base_uri": "https://localhost:8080/"
        },
        "id": "yh44h8gCNOYW",
        "outputId": "208ba7be-8daf-4e30-d6b2-2bb0df7345c2"
      },
      "outputs": [
        {
          "output_type": "stream",
          "name": "stdout",
          "text": [
            "   X1  X2  y\n",
            "0   0   0  0\n",
            "1   0   1  1\n",
            "2   1   0  1\n",
            "3   1   1  1\n"
          ]
        }
      ],
      "source": [
        "import pandas as pd\n",
        "import numpy as np\n",
        "def threshold(x):\n",
        "  if x >=1:\n",
        "    return 1\n",
        "  else:\n",
        "      return 0\n",
        "def fire(data,weights,output):\n",
        "  for x in data:\n",
        "    weighted_sum = np.inner(x,weights)\n",
        "    output.append(threshold(weighted_sum))\n",
        "data=[[0,0], [0,1], [1,0], [1,1]]\n",
        "\n",
        "weights = [1,1]\n",
        "output = []\n",
        "fire(data, weights, output)\n",
        "\n",
        "t = pd.DataFrame(index=None)\n",
        "t['X1'] = [0,0,1,1]\n",
        "t['X2'] = [0,1,0,1]\n",
        "t['y'] = pd.Series(output)\n",
        "\n",
        "print(t)"
      ]
    }
  ]
}